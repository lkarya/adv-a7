{
 "cells": [
  {
   "cell_type": "code",
   "execution_count": 1,
   "id": "8b770583",
   "metadata": {},
   "outputs": [],
   "source": [
    "#Q1. What is the purpose of the try statement?\n",
    "\n",
    "# The try block lets you test a block of code for errors. The except block lets you handle the error. The else block lets you execute code when there is no error.\n"
   ]
  },
  {
   "cell_type": "code",
   "execution_count": 3,
   "id": "a70214af",
   "metadata": {},
   "outputs": [
    {
     "ename": "SyntaxError",
     "evalue": "invalid syntax (Temp/ipykernel_12548/3241786352.py, line 5)",
     "output_type": "error",
     "traceback": [
      "\u001b[1;36m  File \u001b[1;32m\"C:\\Users\\MOHITA~1\\AppData\\Local\\Temp/ipykernel_12548/3241786352.py\"\u001b[1;36m, line \u001b[1;32m5\u001b[0m\n\u001b[1;33m    except:\u001b[0m\n\u001b[1;37m    ^\u001b[0m\n\u001b[1;31mSyntaxError\u001b[0m\u001b[1;31m:\u001b[0m invalid syntax\n"
     ]
    }
   ],
   "source": [
    "# Q2. What are the two most popular try statement variations?\n",
    "\n",
    "try:\n",
    "    # Some Code\n",
    "except:\n",
    "    # Executed if error in the\n",
    "    # try block"
   ]
  },
  {
   "cell_type": "code",
   "execution_count": 4,
   "id": "1617b585",
   "metadata": {},
   "outputs": [],
   "source": [
    "# Q3. What is the purpose of the raise statement?\n",
    "\n",
    "# The raise keyword raises an error and stops the control flow of the program. It is used to bring up the current exception in an exception handler so that it can be handled further up the call stack."
   ]
  },
  {
   "cell_type": "code",
   "execution_count": 5,
   "id": "1614cf89",
   "metadata": {},
   "outputs": [],
   "source": [
    "# Q4. What does the assert statement do, and what other statement is it like?\n",
    "\n",
    "# An assert statement checks whether a condition is true. If a condition evaluates to True , a program will keep running. If a condition is false, the program will return an AssertionError. At this point, the program will stop executing."
   ]
  },
  {
   "cell_type": "code",
   "execution_count": null,
   "id": "0ae76949",
   "metadata": {},
   "outputs": [],
   "source": []
  }
 ],
 "metadata": {
  "kernelspec": {
   "display_name": "Python 3 (ipykernel)",
   "language": "python",
   "name": "python3"
  },
  "language_info": {
   "codemirror_mode": {
    "name": "ipython",
    "version": 3
   },
   "file_extension": ".py",
   "mimetype": "text/x-python",
   "name": "python",
   "nbconvert_exporter": "python",
   "pygments_lexer": "ipython3",
   "version": "3.9.7"
  }
 },
 "nbformat": 4,
 "nbformat_minor": 5
}
